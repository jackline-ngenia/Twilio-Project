{
 "cells": [
  {
   "cell_type": "markdown",
   "metadata": {},
   "source": [
    "# Twilio Love SMS Messages"
   ]
  },
  {
   "cell_type": "markdown",
   "metadata": {},
   "source": [
    "## Send automated morning texts to your loved one without them knowing with Twilio API\n",
    "Etanglements are tough! We all know that. You need to maintain that solid communication and reach out consistently to keep the connection. Unfortunately, we don't have that much time as developers. We'd rather sleep longer, do that next Python project, or just take some time watching cat videos on YouTube, right?\n",
    "\n",
    "Thanks to Python, this doesn't have to be so difficult. Youy can schedule your \"Good Morning Love\" texts and even replicate that among your different etanglements if you are a serial \"etangler\". To do this we'll be working with the Twilio SMS API which is free, you can also attempt this with the Twilio WhatsApp API which might be slightly more restricting but at least you can send messages beyond national borders with that.\n",
    "\n",
    "## The Love SMS Project\n",
    "Thus, in this project you will create a list of hot morning text messages for your loved one. Example: \"Morning Darl\", \"Hope you were dreaming about me last night\", \"I miss you so much, love\". ake this list as long as possible. The whole point is to not send the same text each morning otherwise they might catch on. Second, you will work with the Twilio SMS API to automatically send a random text from your list of \"morning text messages\" to your loved one at around 7am (They need to know you are an early riser after all!). You can use the schedule Python library to fulfil this message scheduling at whatever time you deem fit."
   ]
  },
  {
   "cell_type": "code",
   "execution_count": 1,
   "metadata": {},
   "outputs": [
    {
     "data": {
      "text/plain": [
       "Every 1 day at 16:08:00 do send_message('Love you, babe! Good morning!') (last run: [never], next run: 2021-05-04 16:08:00)"
      ]
     },
     "execution_count": 1,
     "metadata": {},
     "output_type": "execute_result"
    }
   ],
   "source": [
    "# import libraries\n",
    "import os\n",
    "from twilio.rest import Client\n",
    "import schedule\n",
    "import random\n",
    "import time\n",
    "\n",
    "# make a list of text messages I want to send\n",
    "morning_text_messages = [\n",
    "    'Good morning, handsome! I love you!',\n",
    "    'Hey, babe. Thinking about you.',\n",
    "    'I wish I was in your arms right now.',\n",
    "    'Have a great day!',\n",
    "    'Good morning my special guy. Have a great day!',\n",
    "    'You mean so much to me. I love you!',\n",
    "    'You always bring the biggest smile to my face.',\n",
    "    'Without you, there is no me.',\n",
    "    'You are the greatest guy I have ever met.',\n",
    "    'Love you, babe! Good morning!',\n",
    "    'You really are a dream come true.',\n",
    "    'I hope you had the sweetest dreams, my love.',\n",
    "    'I am sending love your way this morning!'\n",
    "]\n",
    "\n",
    "# send the message using API\n",
    "def send_message(texts):\n",
    "    \n",
    "    account_sid = 'AC538643c81df997c99e2b7087f179c2cc'\n",
    "    auth_token = '87b9c0deb9c2c916a62609555fd7df99'\n",
    "    client = Client(account_sid, auth_token)\n",
    "    \n",
    "    client.messages.create(from_='+13236213632',\n",
    "                           to='+254715364396',\n",
    "                           body=texts)\n",
    "\n",
    "# schedule the message\n",
    "texts = morning_text_messages[random.randint(0, len(morning_text_messages))]\n",
    "schedule.every().day.at(\"16:08\").do(send_message, texts)"
   ]
  },
  {
   "cell_type": "code",
   "execution_count": null,
   "metadata": {},
   "outputs": [],
   "source": []
  }
 ],
 "metadata": {
  "kernelspec": {
   "display_name": "Python 3",
   "language": "python",
   "name": "python3"
  },
  "language_info": {
   "codemirror_mode": {
    "name": "ipython",
    "version": 3
   },
   "file_extension": ".py",
   "mimetype": "text/x-python",
   "name": "python",
   "nbconvert_exporter": "python",
   "pygments_lexer": "ipython3",
   "version": "3.8.3"
  }
 },
 "nbformat": 4,
 "nbformat_minor": 4
}
